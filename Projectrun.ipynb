{
 "cells": [
  {
   "cell_type": "code",
   "execution_count": 6,
   "metadata": {},
   "outputs": [],
   "source": [
    "import ipynb.fs  # Boilerplate required\n",
    "\n",
    "# Do a full import of our module FBleak. Also both this file and the module needs to be in same directory\n",
    "from .full.FBleak import *"
   ]
  },
  {
   "cell_type": "code",
   "execution_count": 7,
   "metadata": {
    "collapsed": true
   },
   "outputs": [],
   "source": [
    "#importing the required modules\n",
    "from os import listdir\n",
    "from os.path import isfile, join"
   ]
  },
  {
   "cell_type": "code",
   "execution_count": 8,
   "metadata": {
    "collapsed": true
   },
   "outputs": [],
   "source": [
    "#main function which is used to run the project. It call all the functions from FBleak module\n",
    "def main():\n",
    "    files = [f.replace('.csv','') for f in listdir() if (isfile(f) and ('withloc.csv' in f))]\n",
    "    Dropdown=widgets.Dropdown(\n",
    "    options=files,\n",
    "    description='Datasets:',\n",
    "    disabled=False,\n",
    "    )\n",
    "    textbox=widgets.Text(\n",
    "    value='',\n",
    "    placeholder='Type something',\n",
    "    description='Hashtag:',\n",
    "    disabled=False\n",
    "    )\n",
    "    tab_contents = ['Process existing set', 'Process new Hashtags']\n",
    "    y=interactive(Analysis,filename=files)\n",
    "    textbox.on_submit(mainprocess)\n",
    "    children = [y,textbox]\n",
    "    tab = widgets.Tab()\n",
    "    tab.children = children\n",
    "    for i in range(len(children)):\n",
    "        tab.set_title(i, tab_contents[i])\n",
    "    display(tab)"
   ]
  },
  {
   "cell_type": "code",
   "execution_count": 9,
   "metadata": {},
   "outputs": [
    {
     "data": {
      "application/vnd.jupyter.widget-view+json": {
       "model_id": "cb43608c43ae47feacf419d2029b6459",
       "version_major": 2,
       "version_minor": 0
      },
      "text/plain": [
       "A Jupyter Widget"
      ]
     },
     "metadata": {},
     "output_type": "display_data"
    }
   ],
   "source": [
    "#Calling the main function here\n",
    "if __name__ == \"__main__\":\n",
    "    main()"
   ]
  }
 ],
 "metadata": {
  "kernelspec": {
   "display_name": "Python 3",
   "language": "python",
   "name": "python3"
  },
  "language_info": {
   "codemirror_mode": {
    "name": "ipython",
    "version": 3
   },
   "file_extension": ".py",
   "mimetype": "text/x-python",
   "name": "python",
   "nbconvert_exporter": "python",
   "pygments_lexer": "ipython3",
   "version": "3.6.3"
  }
 },
 "nbformat": 4,
 "nbformat_minor": 2
}
